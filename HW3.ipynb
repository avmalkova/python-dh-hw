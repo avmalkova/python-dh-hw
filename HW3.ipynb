{
 "cells": [
  {
   "cell_type": "markdown",
   "metadata": {},
   "source": [
    "# ДЗ 3 Неоцениваемое\n",
    "\n",
    "## Задание 1\n",
    "\n",
    "Напишите программу, которая по данному числу n от 1 до 9 выводит на экран n пингвинов. Изображение одного пингвина имеет размер 5 × 9 символов, между двумя соседними пингвинами также имеется пустой (из пробелов) столбец. Разрешается вывести пустой столбец после последнего пингвина."
   ]
  },
  {
   "cell_type": "code",
   "execution_count": 2,
   "metadata": {},
   "outputs": [
    {
     "name": "stdout",
     "output_type": "stream",
     "text": [
      "   _~_       _~_       _~_       _~_       _~_       _~_       _~_       _~_       _~_    \n",
      "  (o o)     (o o)     (o o)     (o o)     (o o)     (o o)     (o o)     (o o)     (o o)   \n",
      " /  V  \\   /  V  \\   /  V  \\   /  V  \\   /  V  \\   /  V  \\   /  V  \\   /  V  \\   /  V  \\  \n",
      "/(  _  )\\ /(  _  )\\ /(  _  )\\ /(  _  )\\ /(  _  )\\ /(  _  )\\ /(  _  )\\ /(  _  )\\ /(  _  )\\ \n",
      "  ^^ ^^     ^^ ^^     ^^ ^^     ^^ ^^     ^^ ^^     ^^ ^^     ^^ ^^     ^^ ^^     ^^ ^^   \n"
     ]
    }
   ],
   "source": [
    "#Создаем армию пингвинчиков\n",
    "\n",
    "l1 = '   _~_    '     \n",
    "l2 = '  (o o)   '   \n",
    "l3 = ' /  V  \\\\  '\n",
    "l4 = '/(  _  )\\\\ '\n",
    "l5 = '  ^^ ^^   '\n",
    "\n",
    "n = 9 \n",
    "\n",
    "print (l1 * n)\n",
    "print (l2 * n)\n",
    "print (l3 * n)\n",
    "print (l4 * n)\n",
    "print (l5 * n)\n",
    " "
   ]
  },
  {
   "cell_type": "markdown",
   "metadata": {},
   "source": [
    "## Задание 2\n",
    "\n",
    "Возьмите строку, состоящую из нескольких слов, разделенных пробелами. Программа должна напечатать количество слов. Можете решить задачу, своими глазами посчитав, или использовать для решения задачи метод count. "
   ]
  },
  {
   "cell_type": "code",
   "execution_count": 80,
   "metadata": {},
   "outputs": [
    {
     "name": "stdout",
     "output_type": "stream",
     "text": [
      "Всего слов: \n",
      "4\n"
     ]
    }
   ],
   "source": [
    "#Cчитаем количество слов в предложении\n",
    "\n",
    "s = 'Show must go on!'\n",
    "\n",
    "print ('Всего слов: ')\n",
    "print (len(s.split(' ')))"
   ]
  },
  {
   "cell_type": "markdown",
   "metadata": {},
   "source": [
    "## Задание 3 \n",
    "\n",
    "Придумайте свою задачу (абсолютно любой сложности) и решите ее."
   ]
  },
  {
   "cell_type": "code",
   "execution_count": 16,
   "metadata": {},
   "outputs": [
    {
     "name": "stdout",
     "output_type": "stream",
     "text": [
      "277\n",
      "Ура! Ура! Ура! \n"
     ]
    }
   ],
   "source": [
    "#Решаем уравнение и хвалим себя троекратным \"Ура!\"\n",
    "\n",
    "z = 29\n",
    "y = 73\n",
    "\n",
    "x = 2 * z + 3 * y \n",
    "print (x)\n",
    "\n",
    "sound = \"Ура! \"\n",
    "scream = sound * 3\n",
    "print (scream)"
   ]
  }
 ],
 "metadata": {
  "kernelspec": {
   "display_name": "Python 3",
   "language": "python",
   "name": "python3"
  },
  "language_info": {
   "codemirror_mode": {
    "name": "ipython",
    "version": 3
   },
   "file_extension": ".py",
   "mimetype": "text/x-python",
   "name": "python",
   "nbconvert_exporter": "python",
   "pygments_lexer": "ipython3",
   "version": "3.6.4"
  }
 },
 "nbformat": 4,
 "nbformat_minor": 2
}
