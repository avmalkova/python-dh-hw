{
 "cells": [
  {
   "cell_type": "markdown",
   "metadata": {},
   "source": [
    "# ДЗ 5 Неоцениваемое\n",
    "\n",
    "## Задание 1\n",
    "\n",
    "Напишите функцию, которая принимает на вход имя (строку) и словарь. В словаре должны храниться имена (ключи) и номера телефонов (значения). Имена не должны повторяться, а в номерах телефонов должны быть только цифры!\n",
    "\n",
    "Функция должна проверять, есть ли имя в словаре, и если есть, то возвращать номер телефона этого человека.\n",
    "\n",
    "Если имени нет в словаре, программа должна написать, что такого имени нет в телефонной книге, предложить ввести номер телефона через input(), добавить новую запись в словарь и вернуть словарь."
   ]
  },
  {
   "cell_type": "code",
   "execution_count": 4,
   "metadata": {
    "scrolled": true
   },
   "outputs": [
    {
     "name": "stdout",
     "output_type": "stream",
     "text": [
      "Введите имя человека\n",
      "Jora\n"
     ]
    },
    {
     "data": {
      "text/plain": [
       "79254561232"
      ]
     },
     "execution_count": 4,
     "metadata": {},
     "output_type": "execute_result"
    }
   ],
   "source": [
    "def func(name, dict1):\n",
    "    dict1 = {\"Mika\": 79263124512, \"Jora\": 79254561232, \"Alica\": 78523541252, \"Nika\": 78543516545}\n",
    "    if name in dict1.keys():\n",
    "        return dict1[name]\n",
    "    else: \n",
    "        print(\"такого имени нет в телефонной книге\")\n",
    "        number = int(input())\n",
    "        dict1[name] = number\n",
    "        return dict1\n",
    "func(input(\"Введите имя человека\\n\"),1)"
   ]
  },
  {
   "cell_type": "markdown",
   "metadata": {},
   "source": [
    "## Задание 2\n",
    "\n",
    "Используя словарь {\"Bonnie\": 89007771111, \"Clyde\": 89007772222}.\n",
    "Добавьте элементы как минимум двумя способами, чтобы с точностью до порядка(то есть не обращаем внимание на порядок элементов) получился словарь {\"Bonnie\": 89007771111, \"Clyde\": 89007772222, \"Huey\": 89003330000, \"Dewey\": 89003331111, \"Louie\": 89003332222} "
   ]
  },
  {
   "cell_type": "code",
   "execution_count": 11,
   "metadata": {
    "collapsed": true
   },
   "outputs": [],
   "source": [
    "slovar1 = {\"Bonnie\": 89007771111, \"Clyde\": 89007772222} # создаем словарь"
   ]
  },
  {
   "cell_type": "code",
   "execution_count": 12,
   "metadata": {},
   "outputs": [],
   "source": [
    "slovar1[\"Huey\"] = 89003330000 # добавляем значения в словарь первым способом\n",
    "slovar1[\"Dewey\"] = 89003331111\n",
    "slovar1[\"Louie\"] = 89003332222"
   ]
  },
  {
   "cell_type": "code",
   "execution_count": 16,
   "metadata": {},
   "outputs": [
    {
     "data": {
      "text/plain": [
       "{'Bonnie': 89007771111,\n",
       " 'Clyde': 89007772222,\n",
       " 'Dewey': 89003331111,\n",
       " 'Huey': 89003330000,\n",
       " 'Louie': 89003332222}"
      ]
     },
     "execution_count": 16,
     "metadata": {},
     "output_type": "execute_result"
    }
   ],
   "source": [
    "slovar1"
   ]
  },
  {
   "cell_type": "code",
   "execution_count": 13,
   "metadata": {},
   "outputs": [],
   "source": [
    "slovar2 = {\"Bonnie\": 89007771111, \"Clyde\": 89007772222} # создаем словарь"
   ]
  },
  {
   "cell_type": "code",
   "execution_count": 14,
   "metadata": {
    "collapsed": true
   },
   "outputs": [],
   "source": [
    "slovar2.update({\"Huey\": 89003330000, \"Dewey\": 89003331111, \"Louie\": 89003332222}) #добавляем значения в словарь вторрым способом"
   ]
  },
  {
   "cell_type": "code",
   "execution_count": 15,
   "metadata": {
    "scrolled": true
   },
   "outputs": [
    {
     "data": {
      "text/plain": [
       "{'Bonnie': 89007771111,\n",
       " 'Clyde': 89007772222,\n",
       " 'Dewey': 89003331111,\n",
       " 'Huey': 89003330000,\n",
       " 'Louie': 89003332222}"
      ]
     },
     "execution_count": 15,
     "metadata": {},
     "output_type": "execute_result"
    }
   ],
   "source": [
    "slovar2"
   ]
  },
  {
   "cell_type": "markdown",
   "metadata": {},
   "source": [
    "## Задание 3\n",
    "\n",
    "Дана неубывающая последовательность, в которой каждое натуральное число k встречается ровно k раз: 1, 2, 2, 3, 3, 3, 4, 4, 4, 4, ...\n",
    "По данному натуральному n выведите первые n членов этой последовательности."
   ]
  },
  {
   "cell_type": "code",
   "execution_count": null,
   "metadata": {},
   "outputs": [],
   "source": []
  }
 ],
 "metadata": {
  "kernelspec": {
   "display_name": "Python 3",
   "language": "python",
   "name": "python3"
  },
  "language_info": {
   "codemirror_mode": {
    "name": "ipython",
    "version": 3
   },
   "file_extension": ".py",
   "mimetype": "text/x-python",
   "name": "python",
   "nbconvert_exporter": "python",
   "pygments_lexer": "ipython3",
   "version": "3.6.4"
  }
 },
 "nbformat": 4,
 "nbformat_minor": 2
}
