{
 "cells": [
  {
   "cell_type": "markdown",
   "metadata": {},
   "source": [
    "# ДЗ 4 Неоцениваемое\n",
    "\n",
    "## Задание 1\n",
    "\n",
    "Возьмем строку и проведем с ней операции."
   ]
  },
  {
   "cell_type": "code",
   "execution_count": 3,
   "metadata": {},
   "outputs": [
    {
     "name": "stdout",
     "output_type": "stream",
     "text": [
      "c\n",
      "u\n",
      "abcd\n",
      "abcdefghijklmnopqrs\n",
      "acegikmoqs\n",
      "bdfhjlnprt\n",
      "utsrqponmlkjihgfedcba\n",
      "usqomkigeca\n",
      "21\n"
     ]
    }
   ],
   "source": [
    "# Возьмем достаточно длинную строку, 21 символ.\n",
    "line = \"abcdefghijklmnopqrstu\"\n",
    "\n",
    "# Используя срезы выведем третий символ этой строки.\n",
    "print(line[2])\n",
    "\n",
    "# Во второй строке выведем предпоследний символ этой строки.\n",
    "print(line[-1])\n",
    "\n",
    "# В третьей строке выведем первые пять символов этой строки.\n",
    "print(line[0:4])\n",
    "\n",
    "# В четвертой строке выведем всю строку, кроме последних двух символов.\n",
    "print(line[0:-2])\n",
    "\n",
    "# В пятой строке выведем все символы с четными индексами (считая, что индексация начинается с 0, поэтому символы выводятся начиная с первого).\n",
    "print(line[0:-1:2])\n",
    "\n",
    "# В шестой строке выведем все символы с нечетными индексами, то есть начиная со второго символа строки.\n",
    "print(line[1::2])\n",
    "\n",
    "# В седьмой строке выведем все символы в обратном порядке.\n",
    "print(line[::-1])\n",
    "\n",
    "# В восьмой строке выведем все символы строки через один в обратном порядке, начиная с последнего.\n",
    "print(line[21::-2])\n",
    "\n",
    "# В девятой строке выведем длину данной строки.\n",
    "print(len(line))"
   ]
  },
  {
   "cell_type": "markdown",
   "metadata": {},
   "source": [
    "## Задание 2\n",
    "\n",
    "Вася хочет проверить, верно ли, что данная текстовая строка читается слева направо и справа налево одинаково. Помогите Васе написать такую программу. Возьмите два слова из строчных букв. Для первого слова, которое должно читаться одинаково, выведите YES, а для второго слова, которое должно читаться неодинаково, -- NO."
   ]
  },
  {
   "cell_type": "code",
   "execution_count": 4,
   "metadata": {},
   "outputs": [
    {
     "name": "stdout",
     "output_type": "stream",
     "text": [
      "YES\n",
      "NO\n"
     ]
    }
   ],
   "source": [
    "word = \"топот\" \n",
    "\n",
    "word_1 = \"компот\"\n",
    "\n",
    "list1 = list(word)\n",
    "list2 = list1[::-1]\n",
    "if str(list1) == str(list2):\n",
    "    print(\"YES\")\n",
    "else:\n",
    "    print(\"NO\")\n",
    "    \n",
    "list3 = list(word_1)\n",
    "list4 = list3[::-1]\n",
    "if str(list3) == str(list4):\n",
    "    print(\"YES\")\n",
    "else:\n",
    "    print(\"NO\")"
   ]
  },
  {
   "cell_type": "markdown",
   "metadata": {},
   "source": [
    "## Задание 3\n",
    "\n",
    "Сформируйте такой лист под названием my_list. Добавьте еще один элемент под названием elem с помощью метода append, и напечатайте количество элементов в измененном списке, используя специальную функцию."
   ]
  },
  {
   "cell_type": "code",
   "execution_count": null,
   "metadata": {},
   "outputs": [
    {
     "name": "stdout",
     "output_type": "stream",
     "text": [
      "['one', 'two', 'three']\n"
     ]
    }
   ],
   "source": [
    "my_list = ['one', 'two', 'three']\n",
    "print(my_list)\n",
    "\n",
    "elem = input(\"Новый элемент:\")\n",
    "my_list.append(elem)\n",
    "print(my_list)"
   ]
  },
  {
   "cell_type": "code",
   "execution_count": null,
   "metadata": {},
   "outputs": [],
   "source": [
    "print(\"Теперь в списке элементов:\")\n",
    "print(len(my_list))"
   ]
  }
 ],
 "metadata": {
  "kernelspec": {
   "display_name": "Python 3",
   "language": "python",
   "name": "python3"
  },
  "language_info": {
   "codemirror_mode": {
    "name": "ipython",
    "version": 3
   },
   "file_extension": ".py",
   "mimetype": "text/x-python",
   "name": "python",
   "nbconvert_exporter": "python",
   "pygments_lexer": "ipython3",
   "version": "3.6.4"
  }
 },
 "nbformat": 4,
 "nbformat_minor": 2
}
